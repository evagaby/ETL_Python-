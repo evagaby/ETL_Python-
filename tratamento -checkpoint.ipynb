{
 "cells": [
  {
   "cell_type": "code",
   "execution_count": 2,
   "id": "6bdb60fd",
   "metadata": {},
   "outputs": [],
   "source": [
    "import pandas as pd "
   ]
  },
  {
   "cell_type": "code",
   "execution_count": 210,
   "id": "67d4419a",
   "metadata": {},
   "outputs": [],
   "source": [
    "### IMPORTANDO AS TABELAS\n",
    "table16 = pd.read_csv(r'C:\\Users\\Eva\\Documents\\notebook_puc\\dados_violencia_mulheres_ses_2016.csv',sep=';')\n",
    "table17 = pd.read_csv(r'C:\\Users\\Eva\\Documents\\notebook_puc\\dados_violencia_mulheres_ses_2017.csv',sep=';')"
   ]
  },
  {
   "cell_type": "code",
   "execution_count": 26,
   "id": "38b14d42",
   "metadata": {},
   "outputs": [],
   "source": [
    "### CRIANDO DATAFRAMES\n",
    "df16 = pd.DataFrame(table16)\n",
    "df17 = pd.DataFrame(table17)\n"
   ]
  },
  {
   "cell_type": "code",
   "execution_count": 27,
   "id": "c1080f1e",
   "metadata": {},
   "outputs": [],
   "source": [
    "### JUNTANDO DUAS TABELAS\n",
    "df = pd.concat([df16,df17], ignore_index=True)"
   ]
  },
  {
   "cell_type": "code",
   "execution_count": 28,
   "id": "edbbed5a",
   "metadata": {},
   "outputs": [],
   "source": [
    "###RETIRANDO ACENTOS\n",
    "\n",
    "df = df.replace('ô','o', regex=True)\n",
    "df = df.replace('ã','a', regex=True)\n",
    "df = df.replace('á','a', regex=True)\n",
    "df = df.replace('ó','o', regex=True)\n",
    "df = df.replace('ú','u', regex=True)\n",
    "df = df.replace('é','e', regex=True)\n",
    "df = df.replace('í','i', regex=True)\n",
    "\n"
   ]
  },
  {
   "cell_type": "code",
   "execution_count": 29,
   "id": "2da546c6",
   "metadata": {},
   "outputs": [],
   "source": [
    "###ALTERANDO TIPOS PRIMITIVOS \n",
    "\n",
    "###ALTERANDO DATA\n",
    "df [ 'DT_NOTIFIC'] = pd.to_datetime(df['DT_NOTIFIC'], dayfirst = True)\n",
    "df ['DT_NASC'] = pd.to_datetime(df['DT_NASC'], dayfirst = True)\n",
    "###ALTERANDO O RESTANTE DOS DADOS DA TABELA\n",
    "df = df.convert_dtypes()\n"
   ]
  },
  {
   "cell_type": "code",
   "execution_count": 30,
   "id": "b184854a",
   "metadata": {},
   "outputs": [],
   "source": [
    "###Exportando tabela finalizada\n",
    "\n",
    "df.to_csv('table_finish.csv', index = False )"
   ]
  }
 ],
 "metadata": {
  "kernelspec": {
   "display_name": "Python 3 (ipykernel)",
   "language": "python",
   "name": "python3"
  },
  "language_info": {
   "codemirror_mode": {
    "name": "ipython",
    "version": 3
   },
   "file_extension": ".py",
   "mimetype": "text/x-python",
   "name": "python",
   "nbconvert_exporter": "python",
   "pygments_lexer": "ipython3",
   "version": "3.11.5"
  }
 },
 "nbformat": 4,
 "nbformat_minor": 5
}
